{
  "nbformat": 4,
  "nbformat_minor": 0,
  "metadata": {
    "colab": {
      "name": "Python_Basics_3.ipynb",
      "provenance": [],
      "collapsed_sections": []
    },
    "kernelspec": {
      "name": "python3",
      "display_name": "Python 3"
    },
    "language_info": {
      "name": "python"
    }
  },
  "cells": [
    {
      "cell_type": "markdown",
      "source": [
        "**Practice** Print \"Davet\" from Nazim Hikmet on screen by put a space after every line."
      ],
      "metadata": {
        "id": "X0aZhi_hGuSe"
      }
    },
    {
      "cell_type": "code",
      "source": [
        "with open(\"/content/drive/MyDrive/Colab Notebooks/for_python.txt\",\"r\", encoding=\"utf8\") as f:\n",
        "  lines=f.readlines()\n",
        "f = open(\"davet_finalver.txt\", \"w\", encoding=\"utf8\")\n",
        "\n",
        "for i in range(0, len(lines),3):\n",
        "  for j in range(3):\n",
        "    f.write(lines[i+j])\n",
        "  f.write('\\n')\n",
        "f.close()\n",
        "\n",
        "with open(\"davet_finalver.txt\",\"r\", encoding=\"utf8\") as f:\n",
        "  lines=f.readlines()\n",
        "for line in lines:\n",
        "  print(line)"
      ],
      "metadata": {
        "colab": {
          "base_uri": "https://localhost:8080/"
        },
        "id": "IbQCTbvdGs9N",
        "outputId": "4b3f8b04-71dd-49bc-c682-7167c48cf681"
      },
      "execution_count": null,
      "outputs": [
        {
          "output_type": "stream",
          "name": "stdout",
          "text": [
            "       Dörtnala gelip Uzak Asya'dan\n",
            "\n",
            "       Akdeniz'e bir kısrak başı gibi uzanan\n",
            "\n",
            "               bu memleket, bizim.\n",
            "\n",
            "\n",
            "\n",
            "       Bilekler kan içinde, dişler kenetli, ayaklar çıplak\n",
            "\n",
            "       ve ipek bir halıya benziyen toprak,\n",
            "\n",
            "               bu cehennem, bu cennet bizim.\n",
            "\n",
            "\n",
            "\n",
            "       Kapansın el kapıları, bir daha açılmasın,\n",
            "\n",
            "       yok edin insanın insana kulluğunu,\n",
            "\n",
            "               bu dâvet bizim....\n",
            "\n",
            "\n",
            "\n",
            "       Yaşamak bir ağaç gibi tek ve hür\n",
            "\n",
            "       ve bir orman gibi kardeşçesine,\n",
            "\n",
            "               bu hasret bizim...\n",
            "\n"
          ]
        }
      ]
    },
    {
      "cell_type": "markdown",
      "source": [
        "**Practice:** Write a function that calculate the hypotenuse length of the deltoid."
      ],
      "metadata": {
        "id": "Vns9QUYVXTVV"
      }
    },
    {
      "cell_type": "code",
      "execution_count": null,
      "metadata": {
        "colab": {
          "base_uri": "https://localhost:8080/"
        },
        "id": "luN-gujmGoXw",
        "outputId": "184b82ce-18b4-414b-8702-42a728aaeb5f"
      },
      "outputs": [
        {
          "output_type": "stream",
          "name": "stdout",
          "text": [
            "13.0\n",
            "5.0\n",
            "6.4031242374328485\n"
          ]
        }
      ],
      "source": [
        "def hip(side_1, side_2):\n",
        "  hypo = ((side_1**2) + (side_2**2))**0.5\n",
        "  return hypo\n",
        "print(hip(5,12))\n",
        "print(hip(3,4))\n",
        "print(hip(4,5))"
      ]
    },
    {
      "cell_type": "markdown",
      "source": [
        "**Practice** Write a function that transfers the square of the number that is less than an entered number to the list."
      ],
      "metadata": {
        "id": "S223jVCpaqZj"
      }
    },
    {
      "cell_type": "code",
      "source": [
        "def numbers_into_thelist(x):\n",
        "  numbers=[]\n",
        "  for i in range(x):\n",
        "    numbers.append(i**2)\n",
        "  return numbers\n",
        "print(numbers_into_thelist(15))"
      ],
      "metadata": {
        "colab": {
          "base_uri": "https://localhost:8080/"
        },
        "id": "c3taVVPxYcC5",
        "outputId": "8950b689-ab43-4684-e43d-33cd35ee34bb"
      },
      "execution_count": null,
      "outputs": [
        {
          "output_type": "stream",
          "name": "stdout",
          "text": [
            "[0, 1, 4, 9, 16, 25, 36, 49, 64, 81, 100, 121, 144, 169, 196]\n"
          ]
        }
      ]
    },
    {
      "cell_type": "markdown",
      "source": [
        "**Practice** Write a function that demands informations from the user. "
      ],
      "metadata": {
        "id": "XQtuQQ7xdEER"
      }
    },
    {
      "cell_type": "code",
      "source": [
        "def login_code():\n",
        "  name=input(\"your name: \")\n",
        "  surname=input(\"your surname: \")\n",
        "  print(\"welcome {} {}\".format(name,surname))\n",
        "  return\n",
        "login_code()"
      ],
      "metadata": {
        "colab": {
          "base_uri": "https://localhost:8080/"
        },
        "id": "joMGhxO0eB3E",
        "outputId": "4d225458-de7d-4ed8-9741-cbefeff83980"
      },
      "execution_count": null,
      "outputs": [
        {
          "output_type": "stream",
          "name": "stdout",
          "text": [
            "your name: mali\n",
            "your surname: sevim\n",
            "welcome mali sevim\n"
          ]
        }
      ]
    },
    {
      "cell_type": "markdown",
      "source": [
        "## **Practice** Practicing the other functions."
      ],
      "metadata": {
        "id": "5K1SaM64lTuB"
      }
    },
    {
      "cell_type": "code",
      "source": [
        "list_1 = [True,True,True,True]\n",
        "list_2 = [False,True,True,True]\n",
        "print(all(list_1),all(list_2),any(list_2))"
      ],
      "metadata": {
        "colab": {
          "base_uri": "https://localhost:8080/"
        },
        "id": "jIqwyyNcdu22",
        "outputId": "f6f86a29-c39e-41fc-878c-29e1b7517e9c"
      },
      "execution_count": null,
      "outputs": [
        {
          "output_type": "stream",
          "name": "stdout",
          "text": [
            "True False True\n"
          ]
        }
      ]
    },
    {
      "cell_type": "code",
      "source": [
        ""
      ],
      "metadata": {
        "id": "cIetK-JRdD4P"
      },
      "execution_count": null,
      "outputs": []
    },
    {
      "cell_type": "code",
      "source": [
        "index=0\n",
        "\n",
        "for animal in animals_1:\n",
        "  print (\"index: {} animal : {}\".format(index, animal))\n",
        "  index+=1"
      ],
      "metadata": {
        "colab": {
          "base_uri": "https://localhost:8080/"
        },
        "id": "GTX19L8faedq",
        "outputId": "ff31919e-e09b-44dc-8b9f-3eccfca5bc1a"
      },
      "execution_count": null,
      "outputs": [
        {
          "output_type": "stream",
          "name": "stdout",
          "text": [
            "index: 0 animal : bird\n",
            "index: 1 animal : rabbit\n",
            "index: 2 animal : dog\n",
            "index: 3 animal : cat\n"
          ]
        }
      ]
    },
    {
      "cell_type": "code",
      "source": [
        "for index,animal in enumerate(animals_1):\n",
        "  print (\"index: {} animal : {}\".format(index,animal))"
      ],
      "metadata": {
        "colab": {
          "base_uri": "https://localhost:8080/"
        },
        "id": "ZBeEs4rKcP49",
        "outputId": "8b3ad739-8cd7-4642-9cc6-42848487f945"
      },
      "execution_count": null,
      "outputs": [
        {
          "output_type": "stream",
          "name": "stdout",
          "text": [
            "index: 0 animal : bird\n",
            "index: 1 animal : rabbit\n",
            "index: 2 animal : dog\n",
            "index: 3 animal : cat\n"
          ]
        }
      ]
    },
    {
      "cell_type": "code",
      "source": [
        "lambda_func= lambda x: x**2\n",
        "\n",
        "print(lambda_func(3))"
      ],
      "metadata": {
        "colab": {
          "base_uri": "https://localhost:8080/"
        },
        "id": "YMsklh1po3jL",
        "outputId": "b3d38fd4-b307-4b3a-dd93-808021b6f426"
      },
      "execution_count": null,
      "outputs": [
        {
          "output_type": "stream",
          "name": "stdout",
          "text": [
            "9\n"
          ]
        }
      ]
    },
    {
      "cell_type": "code",
      "source": [
        "f = lambda x,y : x + y\n",
        "print(f(77,33))"
      ],
      "metadata": {
        "colab": {
          "base_uri": "https://localhost:8080/"
        },
        "id": "1B6xwHAHoYTB",
        "outputId": "f8946efb-700c-4f61-9b42-f09f3b2176d8"
      },
      "execution_count": null,
      "outputs": [
        {
          "output_type": "stream",
          "name": "stdout",
          "text": [
            "110\n"
          ]
        }
      ]
    },
    {
      "cell_type": "code",
      "source": [
        "is_even=lambda x: print(\"{} even number\".format(x)) if x % 2==0 else print(\"{} odd number\".format((x)))\n",
        "is_even(35)\n"
      ],
      "metadata": {
        "colab": {
          "base_uri": "https://localhost:8080/"
        },
        "id": "tPFEP4ozpRDe",
        "outputId": "8285e39e-f3d4-433e-c274-af93f24cd3a8"
      },
      "execution_count": null,
      "outputs": [
        {
          "output_type": "stream",
          "name": "stdout",
          "text": [
            "35 odd number\n"
          ]
        }
      ]
    },
    {
      "cell_type": "code",
      "source": [
        "def is_even(x):\n",
        "  if x%2==0:\n",
        "    return True\n",
        "  else:\n",
        "    return False\n",
        "list(filter(is_even, range(1,11)))"
      ],
      "metadata": {
        "colab": {
          "base_uri": "https://localhost:8080/"
        },
        "id": "IAAU2AqPsqaN",
        "outputId": "72adfbe6-d302-48c5-886a-2026b78cc237"
      },
      "execution_count": null,
      "outputs": [
        {
          "output_type": "execute_result",
          "data": {
            "text/plain": [
              "[2, 4, 6, 8, 10]"
            ]
          },
          "metadata": {},
          "execution_count": 77
        }
      ]
    },
    {
      "cell_type": "code",
      "source": [
        "list(filter(lambda x: True if x % 2==0 else False, range(1,11)))"
      ],
      "metadata": {
        "colab": {
          "base_uri": "https://localhost:8080/"
        },
        "id": "kdyZNlmAvRHQ",
        "outputId": "dee4d824-f398-40a2-879b-3dac80325df2"
      },
      "execution_count": null,
      "outputs": [
        {
          "output_type": "execute_result",
          "data": {
            "text/plain": [
              "[2, 4, 6, 8, 10]"
            ]
          },
          "metadata": {},
          "execution_count": 80
        }
      ]
    },
    {
      "cell_type": "code",
      "source": [
        "numbers = list(range(1,11))\n",
        "\n",
        "def square(x):\n",
        "  return x**2\n",
        "list(map(square, numbers))"
      ],
      "metadata": {
        "colab": {
          "base_uri": "https://localhost:8080/"
        },
        "id": "ih4OMnUHvrT_",
        "outputId": "1f130b70-6af9-42d3-f8e0-bd7de50f708b"
      },
      "execution_count": null,
      "outputs": [
        {
          "output_type": "execute_result",
          "data": {
            "text/plain": [
              "[1, 4, 9, 16, 25, 36, 49, 64, 81, 100]"
            ]
          },
          "metadata": {},
          "execution_count": 81
        }
      ]
    },
    {
      "cell_type": "code",
      "source": [
        "list(map((lambda x: x**2), numbers))"
      ],
      "metadata": {
        "colab": {
          "base_uri": "https://localhost:8080/"
        },
        "id": "R9MtKTkqwf77",
        "outputId": "f95bf2e8-6df5-457a-ef78-721fc2489b1d"
      },
      "execution_count": null,
      "outputs": [
        {
          "output_type": "execute_result",
          "data": {
            "text/plain": [
              "[1, 4, 9, 16, 25, 36, 49, 64, 81, 100]"
            ]
          },
          "metadata": {},
          "execution_count": 83
        }
      ]
    },
    {
      "cell_type": "code",
      "source": [
        "result=list(map((lambda x: x**2 if x%2==0 else x), range(0,25)))\n",
        "print(*result)"
      ],
      "metadata": {
        "colab": {
          "base_uri": "https://localhost:8080/"
        },
        "id": "6bfopm8-wolA",
        "outputId": "bdb93608-75ec-427b-d123-f7f7c1ba5ca7"
      },
      "execution_count": null,
      "outputs": [
        {
          "output_type": "stream",
          "name": "stdout",
          "text": [
            "0 1 4 3 16 5 36 7 64 9 100 11 144 13 196 15 256 17 324 19 400 21 484 23 576\n"
          ]
        }
      ]
    }
  ]
}